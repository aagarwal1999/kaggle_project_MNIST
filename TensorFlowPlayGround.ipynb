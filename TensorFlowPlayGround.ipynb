{
 "cells": [
  {
   "cell_type": "code",
   "execution_count": 9,
   "metadata": {},
   "outputs": [
    {
     "name": "stderr",
     "output_type": "stream",
     "text": [
      "/Users/aagarwal_601/anaconda3/lib/python3.6/importlib/_bootstrap.py:219: RuntimeWarning: compiletime version 3.5 of module 'tensorflow.python.framework.fast_tensor_util' does not match runtime version 3.6\n",
      "  return f(*args, **kwds)\n"
     ]
    }
   ],
   "source": [
    "import numpy as np\n",
    "import tensorflow as tf\n",
    "import matplotlib.pyplot as plt\n",
    "\n"
   ]
  },
  {
   "cell_type": "code",
   "execution_count": 13,
   "metadata": {},
   "outputs": [
    {
     "name": "stdout",
     "output_type": "stream",
     "text": [
      "[ 27.  18.]\n",
      "[ 25.  18.]\n"
     ]
    }
   ],
   "source": [
    "#Sample Linear Regression Problem\n",
    "\n",
    "session = tf.Session()\n",
    "node1 = tf.constant([3.0, 1.0]) #constants as nodes\n",
    "node2 = tf.constant([5.0, 4.0]) \n",
    "node3 = tf.add(node1, node2) #create nodes as combinations of other nodes\n",
    "node4 = node1 + node2 #same as above\n",
    "node5 = 3 * node4 #multiplies node by a constant\n",
    "node6 = tf.placeholder(tf.float32) #need to specify type\n",
    "node7 = node6 + node5\n",
    "print(session.run(node7, {node6: 3})) #when adding scalars addition operator is extended, otherwise vectors need to match\n",
    "print(session.run(node7, {node6: [1, 3]}))\n"
   ]
  },
  {
   "cell_type": "code",
   "execution_count": null,
   "metadata": {},
   "outputs": [],
   "source": [
    "#so constants can not change, so its better to use variables in order to be able to update them. "
   ]
  },
  {
   "cell_type": "code",
   "execution_count": 22,
   "metadata": {},
   "outputs": [
    {
     "name": "stdout",
     "output_type": "stream",
     "text": [
      "[ 11.]\n",
      "[[  7.]\n",
      " [ 11.]]\n",
      "[  7.  11.  13.  17.]\n"
     ]
    }
   ],
   "source": [
    "session = tf.Session()\n",
    "node1 = tf.Variable([2.0]) #constants as nodes\n",
    "node2 = tf.Variable([5.0]) \n",
    "node6 = tf.placeholder(tf.float32) #need to specify type\n",
    "node7 = node1 * node6 + node2\n",
    "init = tf.global_variables_initializer()\n",
    "session.run(init)\n",
    "\n",
    "print(session.run(node7, {node6: 3})) #when adding scalars addition operator is extended, otherwise vectors need to match\n",
    "print(session.run(node7, {node6: [[1], [3]]}))\n",
    "print(session.run(node7, {node6: [1, 3, 4, 6]}))"
   ]
  },
  {
   "cell_type": "code",
   "execution_count": 23,
   "metadata": {},
   "outputs": [
    {
     "name": "stdout",
     "output_type": "stream",
     "text": [
      "574.0\n"
     ]
    }
   ],
   "source": [
    "exp_value = tf.placeholder(tf.float32)\n",
    "squared_deltas = tf.square(node7 - exp_value)\n",
    "loss = tf.reduce_sum(squared_deltas)\n",
    "print(session.run(loss, {node6: [1, 2, 3, 4], exp_value: [0, -1, -2, -3]}))"
   ]
  },
  {
   "cell_type": "code",
   "execution_count": 27,
   "metadata": {},
   "outputs": [
    {
     "name": "stdout",
     "output_type": "stream",
     "text": [
      "[array([-1.00000525], dtype=float32), array([ 1.00001526], dtype=float32)]\n"
     ]
    }
   ],
   "source": [
    "optimizer = tf.train.GradientDescentOptimizer(0.01)\n",
    "train = optimizer.minimize(loss)\n",
    "session.run(init) # reset values to incorrect defaults.\n",
    "for i in range(1000):\n",
    "  session.run(train, {node6: [1, 2, 3, 4], exp_value: [0, -1, -2, -3]})\n",
    "print(session.run([node1, node2]))\n",
    "\n"
   ]
  },
  {
   "cell_type": "code",
   "execution_count": null,
   "metadata": {
    "collapsed": true
   },
   "outputs": [],
   "source": [
    "#More Complicated Linear Regression Problem\n"
   ]
  }
 ],
 "metadata": {
  "kernelspec": {
   "display_name": "Python 3",
   "language": "python",
   "name": "python3"
  },
  "language_info": {
   "codemirror_mode": {
    "name": "ipython",
    "version": 3
   },
   "file_extension": ".py",
   "mimetype": "text/x-python",
   "name": "python",
   "nbconvert_exporter": "python",
   "pygments_lexer": "ipython3",
   "version": "3.6.3"
  }
 },
 "nbformat": 4,
 "nbformat_minor": 2
}
